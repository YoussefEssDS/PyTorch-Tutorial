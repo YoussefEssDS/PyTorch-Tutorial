{
 "cells": [
  {
   "cell_type": "markdown",
   "metadata": {},
   "source": [
    "# Pythorch Tutorial:\n",
    "\n",
    "Till now I didn't work with the MNSIT dataset on any of my ML problems, wierd enough, since this dataset is the big classic for machine learning tutorials, so I'll be using it for this tutorial.\n",
    "\n",
    "If you don't know about the MNIST dataset, well it's a dataset than contains images of hand written digits from 0 to 9. And the objectif is to predict hand written digits, clear enough. \n",
    "\n",
    "With PyTorch we won't be forced to download the dataset elsewhere, and we can do that through torchvision module.\n",
    "\n",
    "So without further ado let's get right into it!"
   ]
  },
  {
   "cell_type": "code",
   "execution_count": 28,
   "metadata": {},
   "outputs": [],
   "source": [
    "import torch\n",
    "import torchvision\n",
    "from torchvision import transforms,datasets\n",
    "import matplotlib.pyplot as plt\n",
    "import torch.nn as nn\n",
    "import torch.nn.functional as F"
   ]
  },
  {
   "cell_type": "code",
   "execution_count": 3,
   "metadata": {},
   "outputs": [
    {
     "name": "stdout",
     "output_type": "stream",
     "text": [
      "Downloading http://yann.lecun.com/exdb/mnist/train-images-idx3-ubyte.gz to MNIST\\raw\\train-images-idx3-ubyte.gz\n"
     ]
    },
    {
     "name": "stderr",
     "output_type": "stream",
     "text": [
      "100%|████████████████████████████████████████████████████████████████████▊| 9887744/9912422 [01:30<00:00, 79277.65it/s]"
     ]
    },
    {
     "name": "stdout",
     "output_type": "stream",
     "text": [
      "Extracting MNIST\\raw\\train-images-idx3-ubyte.gz to MNIST\\raw\n",
      "Downloading http://yann.lecun.com/exdb/mnist/train-labels-idx1-ubyte.gz to MNIST\\raw\\train-labels-idx1-ubyte.gz\n"
     ]
    },
    {
     "name": "stderr",
     "output_type": "stream",
     "text": [
      "\n",
      "0it [00:00, ?it/s]\n",
      "  0%|                                                                                        | 0/28881 [00:00<?, ?it/s]\n",
      " 57%|█████████████████████████████████████████▍                               | 16384/28881 [00:00<00:00, 93629.39it/s]\n",
      "32768it [00:00, 50030.58it/s]                                                                                          "
     ]
    },
    {
     "name": "stdout",
     "output_type": "stream",
     "text": [
      "Extracting MNIST\\raw\\train-labels-idx1-ubyte.gz to MNIST\\raw\n",
      "Downloading http://yann.lecun.com/exdb/mnist/t10k-images-idx3-ubyte.gz to MNIST\\raw\\t10k-images-idx3-ubyte.gz\n"
     ]
    },
    {
     "name": "stderr",
     "output_type": "stream",
     "text": [
      "\n",
      "0it [00:00, ?it/s]\n",
      "  0%|                                                                                      | 0/1648877 [00:00<?, ?it/s]\n",
      "  0%|▎                                                                       | 8192/1648877 [00:00<00:23, 71219.57it/s]\n",
      "  2%|█▍                                                                     | 32768/1648877 [00:00<00:19, 83579.43it/s]\n",
      "  2%|█▊                                                                     | 40960/1648877 [00:00<00:20, 77192.78it/s]\n",
      "  4%|██▊                                                                    | 65536/1648877 [00:00<00:18, 84641.56it/s]\n",
      "  5%|███▌                                                                   | 81920/1648877 [00:00<00:16, 93893.12it/s]\n",
      "  6%|████▍                                                                | 106496/1648877 [00:01<00:13, 112106.75it/s]\n",
      "  7%|█████▏                                                               | 122880/1648877 [00:01<00:13, 115952.51it/s]\n",
      "  8%|█████▊                                                               | 139264/1648877 [00:01<00:12, 124208.12it/s]\n",
      "  9%|██████▌                                                               | 155648/1648877 [00:01<00:15, 99288.12it/s]\n",
      " 11%|███████▌                                                             | 180224/1648877 [00:01<00:12, 119153.83it/s]\n",
      " 12%|████████▏                                                            | 196608/1648877 [00:01<00:13, 109046.23it/s]\n",
      " 13%|█████████                                                             | 212992/1648877 [00:02<00:19, 73746.26it/s]\n",
      " 14%|█████████▋                                                            | 229376/1648877 [00:02<00:16, 84880.65it/s]\n",
      " 16%|███████████▎                                                         | 270336/1648877 [00:02<00:13, 103015.05it/s]\n",
      " 18%|████████████▋                                                        | 303104/1648877 [00:02<00:10, 127422.00it/s]\n",
      " 20%|█████████████▋                                                       | 327680/1648877 [00:02<00:10, 127016.26it/s]\n",
      " 21%|██████████████▋                                                      | 352256/1648877 [00:03<00:10, 124790.52it/s]\n",
      " 22%|███████████████▍                                                     | 368640/1648877 [00:03<00:12, 104757.01it/s]\n",
      " 24%|████████████████▍                                                    | 393216/1648877 [00:03<00:10, 120127.50it/s]\n",
      " 25%|█████████████████▏                                                   | 409600/1648877 [00:03<00:10, 121841.70it/s]\n",
      " 26%|█████████████████▊                                                   | 425984/1648877 [00:03<00:10, 120373.24it/s]\n",
      " 27%|██████████████████▌                                                  | 442368/1648877 [00:03<00:09, 120664.52it/s]\n",
      " 28%|███████████████████▏                                                 | 458752/1648877 [00:04<00:10, 112192.17it/s]\n",
      " 29%|████████████████████▏                                                | 483328/1648877 [00:04<00:09, 121153.91it/s]\n",
      " 30%|████████████████████▉                                                | 499712/1648877 [00:04<00:09, 122574.61it/s]\n",
      " 31%|█████████████████████▌                                               | 516096/1648877 [00:04<00:09, 114669.11it/s]\n",
      " 32%|██████████████████████▎                                              | 532480/1648877 [00:04<00:09, 111813.24it/s]\n",
      " 33%|███████████████████████▎                                              | 548864/1648877 [00:04<00:12, 88538.76it/s]\n",
      " 35%|███████████████████████▉                                             | 573440/1648877 [00:05<00:10, 103348.23it/s]\n",
      " 37%|█████████████████████████▎                                           | 606208/1648877 [00:05<00:08, 122744.80it/s]\n",
      " 38%|██████████████████████████▍                                           | 622592/1648877 [00:05<00:11, 89401.76it/s]\n",
      " 40%|███████████████████████████▍                                         | 655360/1648877 [00:05<00:08, 113155.65it/s]\n",
      " 41%|████████████████████████████▍                                        | 679936/1648877 [00:05<00:08, 115105.82it/s]\n",
      " 42%|█████████████████████████████▌                                        | 696320/1648877 [00:06<00:13, 70273.32it/s]\n",
      " 45%|███████████████████████████████▋                                      | 745472/1648877 [00:06<00:10, 86849.13it/s]\n",
      " 47%|████████████████████████████████▌                                    | 778240/1648877 [00:06<00:08, 106008.88it/s]\n",
      " 49%|██████████████████████████████████                                    | 802816/1648877 [00:07<00:09, 85983.00it/s]\n",
      " 50%|██████████████████████████████████▊                                   | 819200/1648877 [00:09<00:37, 22419.84it/s]\n",
      " 51%|███████████████████████████████████▍                                  | 835584/1648877 [00:10<00:43, 18900.26it/s]\n",
      " 52%|████████████████████████████████████▌                                 | 860160/1648877 [00:10<00:30, 26138.62it/s]\n",
      " 57%|███████████████████████████████████████▉                              | 942080/1648877 [00:10<00:19, 36812.51it/s]\n",
      " 59%|█████████████████████████████████████████▍                            | 974848/1648877 [00:10<00:15, 44570.05it/s]\n",
      " 61%|██████████████████████████████████████████▏                          | 1007616/1648877 [00:11<00:12, 49751.62it/s]\n",
      " 63%|███████████████████████████████████████████▏                         | 1032192/1648877 [00:11<00:11, 55442.58it/s]\n",
      " 64%|███████████████████████████████████████████▉                         | 1048576/1648877 [00:11<00:09, 64290.19it/s]\n",
      " 65%|████████████████████████████████████████████▌                        | 1064960/1648877 [00:11<00:07, 74335.46it/s]\n",
      " 66%|█████████████████████████████████████████████▌                       | 1089536/1648877 [00:12<00:06, 83476.48it/s]\n",
      " 68%|██████████████████████████████████████████████▌                      | 1114112/1648877 [00:12<00:06, 85162.02it/s]\n",
      " 69%|███████████████████████████████████████████████▎                     | 1130496/1648877 [00:12<00:05, 91190.30it/s]\n",
      " 70%|███████████████████████████████████████████████▉                     | 1146880/1648877 [00:12<00:05, 90379.14it/s]\n",
      " 73%|█████████████████████████████████████████████████▋                  | 1204224/1648877 [00:12<00:03, 117961.09it/s]\n",
      " 79%|█████████████████████████████████████████████████████▋              | 1302528/1648877 [00:13<00:02, 160271.68it/s]\n",
      " 83%|████████████████████████████████████████████████████████▊           | 1376256/1648877 [00:13<00:01, 207686.79it/s]\n",
      " 87%|███████████████████████████████████████████████████████████         | 1433600/1648877 [00:13<00:01, 204605.22it/s]\n",
      " 90%|█████████████████████████████████████████████████████████████▏      | 1482752/1648877 [00:13<00:00, 219764.47it/s]\n",
      " 96%|█████████████████████████████████████████████████████████████████▌  | 1589248/1648877 [00:13<00:00, 278265.55it/s]\n",
      " 99%|███████████████████████████████████████████████████████████████████▌| 1638400/1648877 [00:14<00:00, 199290.33it/s]"
     ]
    },
    {
     "name": "stdout",
     "output_type": "stream",
     "text": [
      "Extracting MNIST\\raw\\t10k-images-idx3-ubyte.gz to MNIST\\raw\n",
      "Downloading http://yann.lecun.com/exdb/mnist/t10k-labels-idx1-ubyte.gz to MNIST\\raw\\t10k-labels-idx1-ubyte.gz\n"
     ]
    },
    {
     "name": "stderr",
     "output_type": "stream",
     "text": [
      "\n",
      "\n",
      "0it [00:00, ?it/s]\n",
      "\n",
      "  0%|                                                                                         | 0/4542 [00:00<?, ?it/s]\n",
      "\n",
      "8192it [00:00, 20481.29it/s]                                                                                           "
     ]
    },
    {
     "name": "stdout",
     "output_type": "stream",
     "text": [
      "Extracting MNIST\\raw\\t10k-labels-idx1-ubyte.gz to MNIST\\raw\n",
      "Processing...\n",
      "Done!\n"
     ]
    },
    {
     "name": "stderr",
     "output_type": "stream",
     "text": [
      "9920512it [01:50, 79277.65it/s]                                                                                        \n",
      "1654784it [00:28, 199290.33it/s]                                                                                       "
     ]
    }
   ],
   "source": [
    "# Initializing train/test data:\n",
    "\n",
    "train=datasets.MNIST(\"\",train=True,download=True,transform=transforms.Compose([transforms.ToTensor()])) \n",
    "# 1st parameter stores the data locally,2nd,3rd self-explanatory and 4th transforms it into a Tensor. \n",
    "\n",
    "test=datasets.MNIST(\"\",train=False,download=True,transform=transforms.Compose([transforms.ToTensor()])) "
   ]
  },
  {
   "cell_type": "code",
   "execution_count": 4,
   "metadata": {},
   "outputs": [],
   "source": [
    "trainset=torch.utils.data.DataLoader(train,batch_size=10,shuffle=True)\n",
    "testset=torch.utils.data.DataLoader(test,batch_size=10,shuffle=True)"
   ]
  },
  {
   "cell_type": "markdown",
   "metadata": {},
   "source": [
    "The format of trainset is as follows: \n",
    "\n",
    "Each item from it is a list with 2 elements, first elemnet contains batch_size Tensors of values for the images. The second element is a tensor containing the output (correct answers) for those images.\n",
    "\n",
    "Note that each image is 28x28 with grayscale value between 0 & 1."
   ]
  },
  {
   "cell_type": "code",
   "execution_count": 14,
   "metadata": {},
   "outputs": [],
   "source": [
    "for batch in trainset:\n",
    "    item\n",
    "    break\n",
    "    \n",
    "# Python remembers the last term of a loop which is the first one in this case since we breaked."
   ]
  },
  {
   "cell_type": "code",
   "execution_count": 18,
   "metadata": {},
   "outputs": [
    {
     "data": {
      "text/plain": [
       "tensor(9)"
      ]
     },
     "execution_count": 18,
     "metadata": {},
     "output_type": "execute_result"
    }
   ],
   "source": [
    "item[1][0]"
   ]
  },
  {
   "cell_type": "code",
   "execution_count": 17,
   "metadata": {},
   "outputs": [
    {
     "data": {
      "text/plain": [
       "<matplotlib.image.AxesImage at 0x2c7ba013320>"
      ]
     },
     "execution_count": 17,
     "metadata": {},
     "output_type": "execute_result"
    },
    {
     "data": {
      "image/png": "[encoded data removed]",
      "text/plain": [
       "<Figure size 432x288 with 1 Axes>"
      ]
     },
     "metadata": {
      "needs_background": "light"
     },
     "output_type": "display_data"
    }
   ],
   "source": [
    "plt.imshow(item[0][0].view(28,28))"
   ]
  },
  {
   "cell_type": "markdown",
   "metadata": {},
   "source": [
    "One important thing with classification problems is to make sure the data is balanced so to verify that let's see the percentage of each of the 10 classes."
   ]
  },
  {
   "cell_type": "code",
   "execution_count": 24,
   "metadata": {},
   "outputs": [],
   "source": [
    "perDict={0:0,1:0,2:0,3:0,4:0,5:0,6:0,7:0,8:0,9:0}\n",
    "total=0\n",
    "for batch in trainset:\n",
    "    y=batch[1]\n",
    "    for label in y:\n",
    "        perDict[int(label)]+=1\n",
    "        total+=1"
   ]
  },
  {
   "cell_type": "code",
   "execution_count": 27,
   "metadata": {},
   "outputs": [
    {
     "name": "stdout",
     "output_type": "stream",
     "text": [
      "100.0\n"
     ]
    },
    {
     "data": {
      "text/plain": [
       "{0: 9.871666666666666,\n",
       " 1: 11.236666666666666,\n",
       " 2: 9.93,\n",
       " 3: 10.218333333333334,\n",
       " 4: 9.736666666666666,\n",
       " 5: 9.035,\n",
       " 6: 9.863333333333333,\n",
       " 7: 10.441666666666666,\n",
       " 8: 9.751666666666667,\n",
       " 9: 9.915}"
      ]
     },
     "execution_count": 27,
     "metadata": {},
     "output_type": "execute_result"
    }
   ],
   "source": [
    "l={key:100*value/total for key,value in perDict.items()}\n",
    "print(sum(l.values()))\n",
    "l"
   ]
  },
  {
   "cell_type": "markdown",
   "metadata": {},
   "source": [
    "Well it's quite balanced and we are not going to have troubles related to unbalanced dataset."
   ]
  },
  {
   "cell_type": "markdown",
   "metadata": {},
   "source": [
    "So after we got our data we will now implement our model. Let's start!"
   ]
  },
  {
   "cell_type": "code",
   "execution_count": null,
   "metadata": {},
   "outputs": [],
   "source": [
    "class Net(nn.Module):\n",
    "    def __init__(self):\n",
    "        super.__init__()\n",
    "        "
   ]
  }
 ],
 "metadata": {
  "kernelspec": {
   "display_name": "Python 3",
   "language": "python",
   "name": "python3"
  },
  "language_info": {
   "codemirror_mode": {
    "name": "ipython",
    "version": 3
   },
   "file_extension": ".py",
   "mimetype": "text/x-python",
   "name": "python",
   "nbconvert_exporter": "python",
   "pygments_lexer": "ipython3",
   "version": "3.7.3"
  }
 },
 "nbformat": 4,
 "nbformat_minor": 2
}
